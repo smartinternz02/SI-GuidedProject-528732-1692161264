{
 "cells": [
  {
   "cell_type": "code",
   "execution_count": 37,
   "id": "ba8c7a09",
   "metadata": {},
   "outputs": [],
   "source": [
    "from tensorflow.keras.preprocessing.image import ImageDataGenerator\n"
   ]
  },
  {
   "cell_type": "code",
   "execution_count": 38,
   "id": "531734aa",
   "metadata": {},
   "outputs": [],
   "source": [
    "# Training Datagen\n",
    "train_datagen = ImageDataGenerator(rescale=1/255,zoom_range=0.2,horizontal_flip=True,vertical_flip=False)\n",
    "# Testing Datagen\n",
    "test_datagen = ImageDataGenerator(rescale=1.0/255.0)"
   ]
  },
  {
   "cell_type": "code",
   "execution_count": 39,
   "id": "a3edbe0b",
   "metadata": {},
   "outputs": [
    {
     "name": "stdout",
     "output_type": "stream",
     "text": [
      "Found 15130 images belonging to 9 classes.\n",
      "Found 2250 images belonging to 9 classes.\n"
     ]
    }
   ],
   "source": [
    "# Training Dataset\n",
    "x_train = train_datagen.flow_from_directory(r'E:\\externship\\ML project\\dataset Ai\\training_set', target_size=(64, 64), class_mode='categorical', batch_size=64)\n",
    "\n",
    "# Testing Dataset\n",
    "x_test = test_datagen.flow_from_directory(r'E:\\externship\\ML project\\dataset Ai\\test_set', target_size=(64, 64), class_mode='categorical', batch_size=64)\n"
   ]
  },
  {
   "cell_type": "code",
   "execution_count": 50,
   "id": "dd5a04cb",
   "metadata": {},
   "outputs": [
    {
     "name": "stdout",
     "output_type": "stream",
     "text": [
      "Len x-train :  237\n",
      "Len x-test :  36\n"
     ]
    }
   ],
   "source": [
    "print(\"Len x-train : \", len(x_train))\n",
    "print(\"Len x-test : \", len(x_test))"
   ]
  },
  {
   "cell_type": "code",
   "execution_count": 51,
   "id": "02a4cd0a",
   "metadata": {},
   "outputs": [],
   "source": [
    "import tensorflow"
   ]
  },
  {
   "cell_type": "code",
   "execution_count": 52,
   "id": "fc36ea4e",
   "metadata": {},
   "outputs": [],
   "source": [
    "import keras"
   ]
  },
  {
   "cell_type": "code",
   "execution_count": 53,
   "id": "5fc1d535",
   "metadata": {},
   "outputs": [
    {
     "data": {
      "text/plain": [
       "{'A': 0, 'B': 1, 'C': 2, 'D': 3, 'E': 4, 'F': 5, 'G': 6, 'H': 7, 'I': 8}"
      ]
     },
     "execution_count": 53,
     "metadata": {},
     "output_type": "execute_result"
    }
   ],
   "source": [
    "x_train.class_indices\n"
   ]
  },
  {
   "cell_type": "code",
   "execution_count": null,
   "id": "5c011a1f",
   "metadata": {},
   "outputs": [],
   "source": []
  },
  {
   "cell_type": "code",
   "execution_count": 54,
   "id": "f9c49cba",
   "metadata": {},
   "outputs": [],
   "source": [
    "# Importing Libraries\n",
    "from tensorflow.keras.models import Sequential\n",
    "from tensorflow.keras.layers import Convolution2D,MaxPooling2D,Flatten,Dense"
   ]
  },
  {
   "cell_type": "code",
   "execution_count": 55,
   "id": "a4421bff",
   "metadata": {},
   "outputs": [],
   "source": [
    "# Creating Model\n",
    "model=Sequential()"
   ]
  },
  {
   "cell_type": "code",
   "execution_count": 56,
   "id": "e5475b91",
   "metadata": {},
   "outputs": [],
   "source": [
    "# Adding Layers\n",
    "model.add(Convolution2D(32,(3,3),activation='relu',input_shape=(64,64,3)))\n",
    "model.add(MaxPooling2D(pool_size=(2,2)))\n",
    "model.add(Flatten())\n",
    "\n",
    "# Adding Hidden Layers\n",
    "model.add(Dense(300,activation='relu'))\n",
    "model.add(Dense(150,activation='relu'))\n",
    "\n",
    "# Adding Output Layer\n",
    "model.add(Dense(9,activation='softmax'))"
   ]
  },
  {
   "cell_type": "code",
   "execution_count": 57,
   "id": "277b3f1b",
   "metadata": {},
   "outputs": [
    {
     "data": {
      "text/plain": [
       "{'A': 0, 'B': 1, 'C': 2, 'D': 3, 'E': 4, 'F': 5, 'G': 6, 'H': 7, 'I': 8}"
      ]
     },
     "execution_count": 57,
     "metadata": {},
     "output_type": "execute_result"
    }
   ],
   "source": [
    "x_train.class_indices"
   ]
  },
  {
   "cell_type": "code",
   "execution_count": 58,
   "id": "3f255cc5",
   "metadata": {},
   "outputs": [],
   "source": [
    "# Compiling the Model\n",
    "model.compile(loss='categorical_crossentropy',optimizer='adam',metrics=['accuracy'])"
   ]
  },
  {
   "cell_type": "code",
   "execution_count": 59,
   "id": "1b0b30f9",
   "metadata": {},
   "outputs": [
    {
     "name": "stdout",
     "output_type": "stream",
     "text": [
      "Epoch 1/10\n",
      "237/237 [==============================] - 28s 114ms/step - loss: 0.2124 - accuracy: 0.9338 - val_loss: 0.1983 - val_accuracy: 0.9733\n",
      "Epoch 2/10\n",
      "237/237 [==============================] - 29s 122ms/step - loss: 0.0271 - accuracy: 0.9921 - val_loss: 0.2490 - val_accuracy: 0.9751\n",
      "Epoch 3/10\n",
      "237/237 [==============================] - 31s 130ms/step - loss: 0.0151 - accuracy: 0.9956 - val_loss: 0.3127 - val_accuracy: 0.9769\n",
      "Epoch 4/10\n",
      "237/237 [==============================] - 32s 136ms/step - loss: 0.0132 - accuracy: 0.9959 - val_loss: 0.3754 - val_accuracy: 0.9778\n",
      "Epoch 5/10\n",
      "237/237 [==============================] - 32s 135ms/step - loss: 0.0111 - accuracy: 0.9964 - val_loss: 0.3315 - val_accuracy: 0.9778\n",
      "Epoch 6/10\n",
      "237/237 [==============================] - 33s 141ms/step - loss: 0.0087 - accuracy: 0.9974 - val_loss: 0.2948 - val_accuracy: 0.9773\n",
      "Epoch 7/10\n",
      "237/237 [==============================] - 34s 142ms/step - loss: 0.0067 - accuracy: 0.9981 - val_loss: 0.3074 - val_accuracy: 0.9787\n",
      "Epoch 8/10\n",
      "237/237 [==============================] - 35s 149ms/step - loss: 0.0065 - accuracy: 0.9977 - val_loss: 0.3358 - val_accuracy: 0.9658\n",
      "Epoch 9/10\n",
      "237/237 [==============================] - 34s 143ms/step - loss: 0.0022 - accuracy: 0.9994 - val_loss: 0.3796 - val_accuracy: 0.9787\n",
      "Epoch 10/10\n",
      "237/237 [==============================] - 98s 414ms/step - loss: 0.0044 - accuracy: 0.9985 - val_loss: 0.3506 - val_accuracy: 0.9733\n"
     ]
    },
    {
     "data": {
      "text/plain": [
       "<keras.callbacks.History at 0x2550ab45e10>"
      ]
     },
     "execution_count": 59,
     "metadata": {},
     "output_type": "execute_result"
    }
   ],
   "source": [
    "model.fit(x_train,steps_per_epoch=len(x_train),epochs=10,validation_data=x_test,validation_steps=len(x_test))"
   ]
  },
  {
   "cell_type": "code",
   "execution_count": 12,
   "id": "a475f196",
   "metadata": {},
   "outputs": [],
   "source": [
    "model.save('model2.h5')\n",
    "# Current accuracy is 0.8454"
   ]
  },
  {
   "cell_type": "code",
   "execution_count": null,
   "id": "2e1a450a",
   "metadata": {},
   "outputs": [],
   "source": []
  },
  {
   "cell_type": "code",
   "execution_count": null,
   "id": "4b646ce4",
   "metadata": {},
   "outputs": [],
   "source": []
  }
 ],
 "metadata": {
  "kernelspec": {
   "display_name": "Python 3 (ipykernel)",
   "language": "python",
   "name": "python3"
  },
  "language_info": {
   "codemirror_mode": {
    "name": "ipython",
    "version": 3
   },
   "file_extension": ".py",
   "mimetype": "text/x-python",
   "name": "python",
   "nbconvert_exporter": "python",
   "pygments_lexer": "ipython3",
   "version": "3.10.9"
  }
 },
 "nbformat": 4,
 "nbformat_minor": 5
}
